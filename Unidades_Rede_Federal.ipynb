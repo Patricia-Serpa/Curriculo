{
  "nbformat": 4,
  "nbformat_minor": 0,
  "metadata": {
    "colab": {
      "name": "Unidades_Rede_Federal.ipynb",
      "provenance": [],
      "collapsed_sections": [],
      "authorship_tag": "ABX9TyNxF9/qFqChrZX9hB4j45aC",
      "include_colab_link": true
    },
    "kernelspec": {
      "name": "python3",
      "display_name": "Python 3"
    },
    "language_info": {
      "name": "python"
    }
  },
  "cells": [
    {
      "cell_type": "markdown",
      "metadata": {
        "id": "view-in-github",
        "colab_type": "text"
      },
      "source": [
        "<a href=\"https://colab.research.google.com/github/Patricia-Serpa/Curriculo/blob/main/Unidades_Rede_Federal.ipynb\" target=\"_parent\"><img src=\"https://colab.research.google.com/assets/colab-badge.svg\" alt=\"Open In Colab\"/></a>"
      ]
    },
    {
      "cell_type": "code",
      "metadata": {
        "id": "3oZUHGVXTvW4"
      },
      "source": [
        "# importar biblioteca\n",
        "import pandas as pd\n",
        "import numpy as np"
      ],
      "execution_count": 96,
      "outputs": []
    },
    {
      "cell_type": "code",
      "metadata": {
        "id": "zhGbqo5J2Y4w"
      },
      "source": [
        "df = pd.read_csv('/content/PDA_2020_Unidades_Rede_Federal_EPCT.csv', sep=';',encoding='cp1252')\n",
        "df"
      ],
      "execution_count": null,
      "outputs": []
    },
    {
      "cell_type": "code",
      "metadata": {
        "id": "qgsAudpJ3BoD"
      },
      "source": [
        "# Mostra as colunas numericas\n",
        "df.count()"
      ],
      "execution_count": null,
      "outputs": []
    },
    {
      "cell_type": "code",
      "metadata": {
        "colab": {
          "base_uri": "https://localhost:8080/"
        },
        "id": "Rf_cATxX3IXY",
        "outputId": "7d722bd4-ad42-4cfa-c7a1-5ec5962c6bac"
      },
      "source": [
        "# Mostra os tipos de cada coluna \n",
        "df.dtypes"
      ],
      "execution_count": 102,
      "outputs": [
        {
          "output_type": "execute_result",
          "data": {
            "text/plain": [
              "SIGLA_INSTITUICAO                object\n",
              "NOME_UNIDADE_ENSINO              object\n",
              "ANO                               int64\n",
              "SIGLA_UF_UNIDADE_ENSINO          object\n",
              "NOME_MUNICIPIO_UNIDADE_ENSINO    object\n",
              "dtype: object"
            ]
          },
          "metadata": {},
          "execution_count": 102
        }
      ]
    },
    {
      "cell_type": "code",
      "metadata": {
        "id": "lSNHQ1ol3adx"
      },
      "source": [
        "# Mostra os nomes da unidades de ensino\n",
        "df['NOME_UNIDADE_ENSINO'].value_counts()"
      ],
      "execution_count": null,
      "outputs": []
    },
    {
      "cell_type": "code",
      "metadata": {
        "id": "0onj-eql4027"
      },
      "source": [
        "# Quantas escolas existem em cada região do Brasil\n",
        "df['SIGLA_UF_UNIDADE_ENSINO'].value_counts()"
      ],
      "execution_count": null,
      "outputs": []
    },
    {
      "cell_type": "code",
      "metadata": {
        "colab": {
          "base_uri": "https://localhost:8080/",
          "height": 289
        },
        "id": "gsJOmzvU5kxL",
        "outputId": "9afc1280-f6e7-4a6a-acbf-eeb827d040f9"
      },
      "source": [
        "# Mostrando os dados em um gráfico \n",
        "\n",
        "# Precisamos informar que queremos mostrar o gráfico no próprio notebook\n",
        "%matplotlib inline \n",
        "df['SIGLA_UF_UNIDADE_ENSINO'].value_counts().plot.bar()"
      ],
      "execution_count": 105,
      "outputs": [
        {
          "output_type": "execute_result",
          "data": {
            "text/plain": [
              "<matplotlib.axes._subplots.AxesSubplot at 0x7fabc681de50>"
            ]
          },
          "metadata": {},
          "execution_count": 105
        },
        {
          "output_type": "display_data",
          "data": {
            "image/png": "[encoded data removed]",
            "text/plain": [
              "<Figure size 432x288 with 1 Axes>"
            ]
          },
          "metadata": {
            "needs_background": "light"
          }
        }
      ]
    },
    {
      "cell_type": "code",
      "metadata": {
        "id": "LwnkTA2e6bZc"
      },
      "source": [
        ""
      ],
      "execution_count": null,
      "outputs": []
    }
  ]
}