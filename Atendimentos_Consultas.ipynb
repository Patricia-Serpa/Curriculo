{
  "nbformat": 4,
  "nbformat_minor": 0,
  "metadata": {
    "colab": {
      "name": "Atendimentos_Consultas.ipynb",
      "provenance": [],
      "collapsed_sections": [],
      "authorship_tag": "ABX9TyMlILATg6mz9hujmt9zx2uW",
      "include_colab_link": true
    },
    "kernelspec": {
      "name": "python3",
      "display_name": "Python 3"
    },
    "language_info": {
      "name": "python"
    }
  },
  "cells": [
    {
      "cell_type": "markdown",
      "metadata": {
        "id": "view-in-github",
        "colab_type": "text"
      },
      "source": [
        "<a href=\"https://colab.research.google.com/github/Patricia-Serpa/Curriculo/blob/main/Atendimentos_Consultas.ipynb\" target=\"_parent\"><img src=\"https://colab.research.google.com/assets/colab-badge.svg\" alt=\"Open In Colab\"/></a>"
      ]
    },
    {
      "cell_type": "code",
      "metadata": {
        "id": "tktwAClp8bBz"
      },
      "source": [
        "# Importar as bibliotecas\n",
        "import pandas as pd\n",
        "%matplotlib inline"
      ],
      "execution_count": 9,
      "outputs": []
    },
    {
      "cell_type": "code",
      "metadata": {
        "id": "umGfCqvz_22J"
      },
      "source": [
        "# Carregar o arquivo\n",
        "df= pd.read_csv('/content/sia112018.csv', sep=';', encoding='latin1', usecols=[2,3,9,10])\n",
        "\n",
        "df"
      ],
      "execution_count": null,
      "outputs": []
    },
    {
      "cell_type": "code",
      "metadata": {
        "colab": {
          "base_uri": "https://localhost:8080/",
          "height": 204
        },
        "id": "p_afuBFiFqW_",
        "outputId": "605660ac-c4f1-4821-b6cf-db4e0736759e"
      },
      "source": [
        "#Trocar os nomes das colunas\n",
        "df.columns = ['Estabelecimento', 'Complexidade', 'Procedimento', 'Quantidade']\n",
        "\n",
        "df.head()"
      ],
      "execution_count": 27,
      "outputs": [
        {
          "output_type": "execute_result",
          "data": {
            "text/html": [
              "<div>\n",
              "<style scoped>\n",
              "    .dataframe tbody tr th:only-of-type {\n",
              "        vertical-align: middle;\n",
              "    }\n",
              "\n",
              "    .dataframe tbody tr th {\n",
              "        vertical-align: top;\n",
              "    }\n",
              "\n",
              "    .dataframe thead th {\n",
              "        text-align: right;\n",
              "    }\n",
              "</style>\n",
              "<table border=\"1\" class=\"dataframe\">\n",
              "  <thead>\n",
              "    <tr style=\"text-align: right;\">\n",
              "      <th></th>\n",
              "      <th>Estabelecimento</th>\n",
              "      <th>Complexidade</th>\n",
              "      <th>Procedimento</th>\n",
              "      <th>Quantidade</th>\n",
              "    </tr>\n",
              "  </thead>\n",
              "  <tbody>\n",
              "    <tr>\n",
              "      <th>0</th>\n",
              "      <td>FARMACIA DE ALTO CUSTO - ASA SUL</td>\n",
              "      <td>Alta complexidade</td>\n",
              "      <td>Fingolimode 0,5 Mg (por Cápsula)</td>\n",
              "      <td>28</td>\n",
              "    </tr>\n",
              "    <tr>\n",
              "      <th>1</th>\n",
              "      <td>FARMACIA DE ALTO CUSTO - ASA SUL</td>\n",
              "      <td>Alta complexidade</td>\n",
              "      <td>Ciprofibrato 100 Mg (por Comprimido)</td>\n",
              "      <td>30</td>\n",
              "    </tr>\n",
              "    <tr>\n",
              "      <th>2</th>\n",
              "      <td>FARMACIA DE ALTO CUSTO - ASA SUL</td>\n",
              "      <td>Alta complexidade</td>\n",
              "      <td>Ciprofibrato 100 Mg (por Comprimido)</td>\n",
              "      <td>30</td>\n",
              "    </tr>\n",
              "    <tr>\n",
              "      <th>3</th>\n",
              "      <td>FARMACIA DE ALTO CUSTO - ASA SUL</td>\n",
              "      <td>Alta complexidade</td>\n",
              "      <td>Ciprofibrato 100 Mg (por Comprimido)</td>\n",
              "      <td>30</td>\n",
              "    </tr>\n",
              "    <tr>\n",
              "      <th>4</th>\n",
              "      <td>FARMACIA DE ALTO CUSTO - ASA SUL</td>\n",
              "      <td>Alta complexidade</td>\n",
              "      <td>Ciprofibrato 100 Mg (por Comprimido)</td>\n",
              "      <td>30</td>\n",
              "    </tr>\n",
              "  </tbody>\n",
              "</table>\n",
              "</div>"
            ],
            "text/plain": [
              "                    Estabelecimento  ... Quantidade\n",
              "0  FARMACIA DE ALTO CUSTO - ASA SUL  ...         28\n",
              "1  FARMACIA DE ALTO CUSTO - ASA SUL  ...         30\n",
              "2  FARMACIA DE ALTO CUSTO - ASA SUL  ...         30\n",
              "3  FARMACIA DE ALTO CUSTO - ASA SUL  ...         30\n",
              "4  FARMACIA DE ALTO CUSTO - ASA SUL  ...         30\n",
              "\n",
              "[5 rows x 4 columns]"
            ]
          },
          "metadata": {},
          "execution_count": 27
        }
      ]
    },
    {
      "cell_type": "code",
      "metadata": {
        "id": "uXjCRwjwGWEN"
      },
      "source": [
        "df.describe"
      ],
      "execution_count": null,
      "outputs": []
    },
    {
      "cell_type": "code",
      "metadata": {
        "id": "LCQnYuXCHObc"
      },
      "source": [
        "# Listar os estabelecimentos presente nos dados \n",
        "df['Estabelecimento'].unique()"
      ],
      "execution_count": null,
      "outputs": []
    },
    {
      "cell_type": "code",
      "metadata": {
        "id": "KzMEreOcHtkc"
      },
      "source": [
        "# Contar quantas consultas nos estabelecimentos\n",
        "df['Estabelecimento'].value_counts()"
      ],
      "execution_count": null,
      "outputs": []
    },
    {
      "cell_type": "code",
      "metadata": {
        "colab": {
          "base_uri": "https://localhost:8080/"
        },
        "id": "eWdSRRKzIfyn",
        "outputId": "1b0fb7bd-3c09-4a56-af96-843832d6a905"
      },
      "source": [
        "# Contar quantas consultas nos complexidade\n",
        "df['Complexidade'].value_counts()"
      ],
      "execution_count": 31,
      "outputs": [
        {
          "output_type": "execute_result",
          "data": {
            "text/plain": [
              "Média complexidade    113342\n",
              "Alta complexidade      59757\n",
              "Atenção Básica          3772\n",
              "Não se aplica           3411\n",
              "Name: Complexidade, dtype: int64"
            ]
          },
          "metadata": {},
          "execution_count": 31
        }
      ]
    },
    {
      "cell_type": "code",
      "metadata": {
        "colab": {
          "base_uri": "https://localhost:8080/",
          "height": 282
        },
        "id": "jt1_fpr8JSFR",
        "outputId": "ecc6c159-9556-4182-9279-b2fbf18fa2ea"
      },
      "source": [
        "# Plotar um gráfico sobre os dados de Complexidade\n",
        "df['Complexidade'].value_counts().plot.barh()"
      ],
      "execution_count": 46,
      "outputs": [
        {
          "output_type": "execute_result",
          "data": {
            "text/plain": [
              "<matplotlib.axes._subplots.AxesSubplot at 0x7f60734ec350>"
            ]
          },
          "metadata": {},
          "execution_count": 46
        },
        {
          "output_type": "display_data",
          "data": {
            "image/png": "[encoded data removed]",
            "text/plain": [
              "<Figure size 432x288 with 1 Axes>"
            ]
          },
          "metadata": {
            "needs_background": "light"
          }
        }
      ]
    }
  ]
}