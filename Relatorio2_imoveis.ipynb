{
  "nbformat": 4,
  "nbformat_minor": 0,
  "metadata": {
    "colab": {
      "name": "Relatorio2_imoveis.ipynb",
      "provenance": [],
      "authorship_tag": "ABX9TyOpg4wIPQvCGKB615xpgU1m",
      "include_colab_link": true
    },
    "kernelspec": {
      "name": "python3",
      "display_name": "Python 3"
    },
    "language_info": {
      "name": "python"
    }
  },
  "cells": [
    {
      "cell_type": "markdown",
      "metadata": {
        "id": "view-in-github",
        "colab_type": "text"
      },
      "source": [
        "<a href=\"https://colab.research.google.com/github/Patricia-Serpa/Curriculo/blob/main/Relatorio2_imoveis.ipynb\" target=\"_parent\"><img src=\"https://colab.research.google.com/assets/colab-badge.svg\" alt=\"Open In Colab\"/></a>"
      ]
    },
    {
      "cell_type": "code",
      "metadata": {
        "id": "oZbZeBi0ZlCn"
      },
      "source": [
        "import pandas as pd"
      ],
      "execution_count": 3,
      "outputs": []
    },
    {
      "cell_type": "code",
      "metadata": {
        "id": "pbhYwMvgZ6Wj"
      },
      "source": [
        "data = pd.read_csv('/content/kc_house_data.csv')"
      ],
      "execution_count": 4,
      "outputs": []
    },
    {
      "cell_type": "code",
      "metadata": {
        "colab": {
          "base_uri": "https://localhost:8080/"
        },
        "id": "r95T16JMQGRH",
        "outputId": "4db2586c-63eb-4f08-b881-7c2eb7e33144"
      },
      "source": [
        "data.shape"
      ],
      "execution_count": 5,
      "outputs": [
        {
          "output_type": "execute_result",
          "data": {
            "text/plain": [
              "(21613, 21)"
            ]
          },
          "metadata": {},
          "execution_count": 5
        }
      ]
    },
    {
      "cell_type": "markdown",
      "metadata": {
        "id": "bE3AplxMQLnV"
      },
      "source": [
        "## Agrupamento\n"
      ]
    },
    {
      "cell_type": "code",
      "metadata": {
        "colab": {
          "base_uri": "https://localhost:8080/"
        },
        "id": "xeSthYPjQRKa",
        "outputId": "9c20007d-dce0-4634-da9b-3b4ade33289c"
      },
      "source": [
        "# Quantos imóveis existem por números de quartos?\n",
        "data[['id', 'bedrooms']].groupby('bedrooms').size()"
      ],
      "execution_count": 6,
      "outputs": [
        {
          "output_type": "execute_result",
          "data": {
            "text/plain": [
              "bedrooms\n",
              "0       13\n",
              "1      199\n",
              "2     2760\n",
              "3     9824\n",
              "4     6882\n",
              "5     1601\n",
              "6      272\n",
              "7       38\n",
              "8       13\n",
              "9        6\n",
              "10       3\n",
              "11       1\n",
              "33       1\n",
              "dtype: int64"
            ]
          },
          "metadata": {},
          "execution_count": 6
        }
      ]
    },
    {
      "cell_type": "code",
      "metadata": {
        "id": "X0udl9sqUUHu"
      },
      "source": [
        "df_grouped = data[['id', 'bedrooms']].groupby('bedrooms')"
      ],
      "execution_count": 7,
      "outputs": []
    },
    {
      "cell_type": "code",
      "metadata": {
        "colab": {
          "base_uri": "https://localhost:8080/"
        },
        "id": "b6VzZQZJUe7e",
        "outputId": "21f1f1b1-237b-4b8d-ec75-d20b3a4da357"
      },
      "source": [
        "df_grouped"
      ],
      "execution_count": 8,
      "outputs": [
        {
          "output_type": "execute_result",
          "data": {
            "text/plain": [
              "<pandas.core.groupby.generic.DataFrameGroupBy object at 0x7f07f0576110>"
            ]
          },
          "metadata": {},
          "execution_count": 8
        }
      ]
    },
    {
      "cell_type": "code",
      "metadata": {
        "colab": {
          "base_uri": "https://localhost:8080/"
        },
        "id": "uBz_0tJ2Uyb8",
        "outputId": "25a9e702-cdfa-4b2e-b4ff-ad54aa266554"
      },
      "source": [
        "for bedrooms, frame in df_grouped:\n",
        "  print( 'numero de quartos: {}'.format(bedrooms))\n",
        "  print( frame.shape, end= '\\n\\n')\n"
      ],
      "execution_count": 9,
      "outputs": [
        {
          "output_type": "stream",
          "name": "stdout",
          "text": [
            "numero de quartos: 0\n",
            "(13, 2)\n",
            "\n",
            "numero de quartos: 1\n",
            "(199, 2)\n",
            "\n",
            "numero de quartos: 2\n",
            "(2760, 2)\n",
            "\n",
            "numero de quartos: 3\n",
            "(9824, 2)\n",
            "\n",
            "numero de quartos: 4\n",
            "(6882, 2)\n",
            "\n",
            "numero de quartos: 5\n",
            "(1601, 2)\n",
            "\n",
            "numero de quartos: 6\n",
            "(272, 2)\n",
            "\n",
            "numero de quartos: 7\n",
            "(38, 2)\n",
            "\n",
            "numero de quartos: 8\n",
            "(13, 2)\n",
            "\n",
            "numero de quartos: 9\n",
            "(6, 2)\n",
            "\n",
            "numero de quartos: 10\n",
            "(3, 2)\n",
            "\n",
            "numero de quartos: 11\n",
            "(1, 2)\n",
            "\n",
            "numero de quartos: 33\n",
            "(1, 2)\n",
            "\n"
          ]
        }
      ]
    },
    {
      "cell_type": "markdown",
      "metadata": {
        "id": "NEIHSUWGWxB7"
      },
      "source": [
        "## Operações"
      ]
    },
    {
      "cell_type": "code",
      "metadata": {
        "colab": {
          "base_uri": "https://localhost:8080/",
          "height": 450
        },
        "id": "uHe1tZfKW0lC",
        "outputId": "96e5135a-3a1d-4936-8836-748a0c22ed62"
      },
      "source": [
        "# Qual o número de imóveis por ano de construção?\n",
        "data[['id', 'yr_built']].groupby('yr_built').count()"
      ],
      "execution_count": 10,
      "outputs": [
        {
          "output_type": "execute_result",
          "data": {
            "text/html": [
              "<div>\n",
              "<style scoped>\n",
              "    .dataframe tbody tr th:only-of-type {\n",
              "        vertical-align: middle;\n",
              "    }\n",
              "\n",
              "    .dataframe tbody tr th {\n",
              "        vertical-align: top;\n",
              "    }\n",
              "\n",
              "    .dataframe thead th {\n",
              "        text-align: right;\n",
              "    }\n",
              "</style>\n",
              "<table border=\"1\" class=\"dataframe\">\n",
              "  <thead>\n",
              "    <tr style=\"text-align: right;\">\n",
              "      <th></th>\n",
              "      <th>id</th>\n",
              "    </tr>\n",
              "    <tr>\n",
              "      <th>yr_built</th>\n",
              "      <th></th>\n",
              "    </tr>\n",
              "  </thead>\n",
              "  <tbody>\n",
              "    <tr>\n",
              "      <th>1900</th>\n",
              "      <td>87</td>\n",
              "    </tr>\n",
              "    <tr>\n",
              "      <th>1901</th>\n",
              "      <td>29</td>\n",
              "    </tr>\n",
              "    <tr>\n",
              "      <th>1902</th>\n",
              "      <td>27</td>\n",
              "    </tr>\n",
              "    <tr>\n",
              "      <th>1903</th>\n",
              "      <td>46</td>\n",
              "    </tr>\n",
              "    <tr>\n",
              "      <th>1904</th>\n",
              "      <td>45</td>\n",
              "    </tr>\n",
              "    <tr>\n",
              "      <th>...</th>\n",
              "      <td>...</td>\n",
              "    </tr>\n",
              "    <tr>\n",
              "      <th>2011</th>\n",
              "      <td>130</td>\n",
              "    </tr>\n",
              "    <tr>\n",
              "      <th>2012</th>\n",
              "      <td>170</td>\n",
              "    </tr>\n",
              "    <tr>\n",
              "      <th>2013</th>\n",
              "      <td>201</td>\n",
              "    </tr>\n",
              "    <tr>\n",
              "      <th>2014</th>\n",
              "      <td>559</td>\n",
              "    </tr>\n",
              "    <tr>\n",
              "      <th>2015</th>\n",
              "      <td>38</td>\n",
              "    </tr>\n",
              "  </tbody>\n",
              "</table>\n",
              "<p>116 rows × 1 columns</p>\n",
              "</div>"
            ],
            "text/plain": [
              "           id\n",
              "yr_built     \n",
              "1900       87\n",
              "1901       29\n",
              "1902       27\n",
              "1903       46\n",
              "1904       45\n",
              "...       ...\n",
              "2011      130\n",
              "2012      170\n",
              "2013      201\n",
              "2014      559\n",
              "2015       38\n",
              "\n",
              "[116 rows x 1 columns]"
            ]
          },
          "metadata": {},
          "execution_count": 10
        }
      ]
    },
    {
      "cell_type": "code",
      "metadata": {
        "colab": {
          "base_uri": "https://localhost:8080/",
          "height": 450
        },
        "id": "OMKir329WszD",
        "outputId": "bfafa728-a9c9-47f1-d845-c3319f7d00e9"
      },
      "source": [
        "# Qual o menor número de quartos por ano de construção de imóveis?\n",
        "data[['bedrooms', 'yr_built']].groupby('yr_built').min()"
      ],
      "execution_count": 11,
      "outputs": [
        {
          "output_type": "execute_result",
          "data": {
            "text/html": [
              "<div>\n",
              "<style scoped>\n",
              "    .dataframe tbody tr th:only-of-type {\n",
              "        vertical-align: middle;\n",
              "    }\n",
              "\n",
              "    .dataframe tbody tr th {\n",
              "        vertical-align: top;\n",
              "    }\n",
              "\n",
              "    .dataframe thead th {\n",
              "        text-align: right;\n",
              "    }\n",
              "</style>\n",
              "<table border=\"1\" class=\"dataframe\">\n",
              "  <thead>\n",
              "    <tr style=\"text-align: right;\">\n",
              "      <th></th>\n",
              "      <th>bedrooms</th>\n",
              "    </tr>\n",
              "    <tr>\n",
              "      <th>yr_built</th>\n",
              "      <th></th>\n",
              "    </tr>\n",
              "  </thead>\n",
              "  <tbody>\n",
              "    <tr>\n",
              "      <th>1900</th>\n",
              "      <td>1</td>\n",
              "    </tr>\n",
              "    <tr>\n",
              "      <th>1901</th>\n",
              "      <td>2</td>\n",
              "    </tr>\n",
              "    <tr>\n",
              "      <th>1902</th>\n",
              "      <td>2</td>\n",
              "    </tr>\n",
              "    <tr>\n",
              "      <th>1903</th>\n",
              "      <td>1</td>\n",
              "    </tr>\n",
              "    <tr>\n",
              "      <th>1904</th>\n",
              "      <td>2</td>\n",
              "    </tr>\n",
              "    <tr>\n",
              "      <th>...</th>\n",
              "      <td>...</td>\n",
              "    </tr>\n",
              "    <tr>\n",
              "      <th>2011</th>\n",
              "      <td>1</td>\n",
              "    </tr>\n",
              "    <tr>\n",
              "      <th>2012</th>\n",
              "      <td>2</td>\n",
              "    </tr>\n",
              "    <tr>\n",
              "      <th>2013</th>\n",
              "      <td>2</td>\n",
              "    </tr>\n",
              "    <tr>\n",
              "      <th>2014</th>\n",
              "      <td>1</td>\n",
              "    </tr>\n",
              "    <tr>\n",
              "      <th>2015</th>\n",
              "      <td>1</td>\n",
              "    </tr>\n",
              "  </tbody>\n",
              "</table>\n",
              "<p>116 rows × 1 columns</p>\n",
              "</div>"
            ],
            "text/plain": [
              "          bedrooms\n",
              "yr_built          \n",
              "1900             1\n",
              "1901             2\n",
              "1902             2\n",
              "1903             1\n",
              "1904             2\n",
              "...            ...\n",
              "2011             1\n",
              "2012             2\n",
              "2013             2\n",
              "2014             1\n",
              "2015             1\n",
              "\n",
              "[116 rows x 1 columns]"
            ]
          },
          "metadata": {},
          "execution_count": 11
        }
      ]
    },
    {
      "cell_type": "code",
      "metadata": {
        "colab": {
          "base_uri": "https://localhost:8080/"
        },
        "id": "dmANaQi2hcgu",
        "outputId": "ce2581e2-cb68-46bf-d766-9bb0d46849c7"
      },
      "source": [
        "data.info()"
      ],
      "execution_count": 12,
      "outputs": [
        {
          "output_type": "stream",
          "name": "stdout",
          "text": [
            "<class 'pandas.core.frame.DataFrame'>\n",
            "RangeIndex: 21613 entries, 0 to 21612\n",
            "Data columns (total 21 columns):\n",
            " #   Column         Non-Null Count  Dtype  \n",
            "---  ------         --------------  -----  \n",
            " 0   id             21613 non-null  int64  \n",
            " 1   date           21613 non-null  object \n",
            " 2   price          21613 non-null  float64\n",
            " 3   bedrooms       21613 non-null  int64  \n",
            " 4   bathrooms      21613 non-null  float64\n",
            " 5   sqft_living    21613 non-null  int64  \n",
            " 6   sqft_lot       21613 non-null  int64  \n",
            " 7   floors         21613 non-null  float64\n",
            " 8   waterfront     21613 non-null  int64  \n",
            " 9   view           21613 non-null  int64  \n",
            " 10  condition      21613 non-null  int64  \n",
            " 11  grade          21613 non-null  int64  \n",
            " 12  sqft_above     21613 non-null  int64  \n",
            " 13  sqft_basement  21613 non-null  int64  \n",
            " 14  yr_built       21613 non-null  int64  \n",
            " 15  yr_renovated   21613 non-null  int64  \n",
            " 16  zipcode        21613 non-null  int64  \n",
            " 17  lat            21613 non-null  float64\n",
            " 18  long           21613 non-null  float64\n",
            " 19  sqft_living15  21613 non-null  int64  \n",
            " 20  sqft_lot15     21613 non-null  int64  \n",
            "dtypes: float64(5), int64(15), object(1)\n",
            "memory usage: 3.5+ MB\n"
          ]
        }
      ]
    },
    {
      "cell_type": "code",
      "metadata": {
        "colab": {
          "base_uri": "https://localhost:8080/",
          "height": 483
        },
        "id": "VCwIUCBag0nR",
        "outputId": "49c0bc7c-8afa-4025-a58b-b2b27d8246e2"
      },
      "source": [
        "# Qual o preço de compras mais alto por cada número de quartos?\n",
        "data[['price', 'bedrooms']].groupby('bedrooms').max()"
      ],
      "execution_count": 13,
      "outputs": [
        {
          "output_type": "execute_result",
          "data": {
            "text/html": [
              "<div>\n",
              "<style scoped>\n",
              "    .dataframe tbody tr th:only-of-type {\n",
              "        vertical-align: middle;\n",
              "    }\n",
              "\n",
              "    .dataframe tbody tr th {\n",
              "        vertical-align: top;\n",
              "    }\n",
              "\n",
              "    .dataframe thead th {\n",
              "        text-align: right;\n",
              "    }\n",
              "</style>\n",
              "<table border=\"1\" class=\"dataframe\">\n",
              "  <thead>\n",
              "    <tr style=\"text-align: right;\">\n",
              "      <th></th>\n",
              "      <th>price</th>\n",
              "    </tr>\n",
              "    <tr>\n",
              "      <th>bedrooms</th>\n",
              "      <th></th>\n",
              "    </tr>\n",
              "  </thead>\n",
              "  <tbody>\n",
              "    <tr>\n",
              "      <th>0</th>\n",
              "      <td>1295650.0</td>\n",
              "    </tr>\n",
              "    <tr>\n",
              "      <th>1</th>\n",
              "      <td>1247000.0</td>\n",
              "    </tr>\n",
              "    <tr>\n",
              "      <th>2</th>\n",
              "      <td>3278000.0</td>\n",
              "    </tr>\n",
              "    <tr>\n",
              "      <th>3</th>\n",
              "      <td>3800000.0</td>\n",
              "    </tr>\n",
              "    <tr>\n",
              "      <th>4</th>\n",
              "      <td>4489000.0</td>\n",
              "    </tr>\n",
              "    <tr>\n",
              "      <th>5</th>\n",
              "      <td>7062500.0</td>\n",
              "    </tr>\n",
              "    <tr>\n",
              "      <th>6</th>\n",
              "      <td>7700000.0</td>\n",
              "    </tr>\n",
              "    <tr>\n",
              "      <th>7</th>\n",
              "      <td>3200000.0</td>\n",
              "    </tr>\n",
              "    <tr>\n",
              "      <th>8</th>\n",
              "      <td>3300000.0</td>\n",
              "    </tr>\n",
              "    <tr>\n",
              "      <th>9</th>\n",
              "      <td>1400000.0</td>\n",
              "    </tr>\n",
              "    <tr>\n",
              "      <th>10</th>\n",
              "      <td>1148000.0</td>\n",
              "    </tr>\n",
              "    <tr>\n",
              "      <th>11</th>\n",
              "      <td>520000.0</td>\n",
              "    </tr>\n",
              "    <tr>\n",
              "      <th>33</th>\n",
              "      <td>640000.0</td>\n",
              "    </tr>\n",
              "  </tbody>\n",
              "</table>\n",
              "</div>"
            ],
            "text/plain": [
              "              price\n",
              "bedrooms           \n",
              "0         1295650.0\n",
              "1         1247000.0\n",
              "2         3278000.0\n",
              "3         3800000.0\n",
              "4         4489000.0\n",
              "5         7062500.0\n",
              "6         7700000.0\n",
              "7         3200000.0\n",
              "8         3300000.0\n",
              "9         1400000.0\n",
              "10        1148000.0\n",
              "11         520000.0\n",
              "33         640000.0"
            ]
          },
          "metadata": {},
          "execution_count": 13
        }
      ]
    },
    {
      "cell_type": "code",
      "metadata": {
        "id": "qlTkef0dEN4O"
      },
      "source": [
        "pd.set_option('display.float_format', lambda x: '%.3f' % x)"
      ],
      "execution_count": 14,
      "outputs": []
    },
    {
      "cell_type": "code",
      "metadata": {
        "colab": {
          "base_uri": "https://localhost:8080/",
          "height": 483
        },
        "id": "3-yr09NOe-me",
        "outputId": "081519f9-8f78-4450-f5f3-83d4e64ac647"
      },
      "source": [
        "# Qual a soma de todos os preços por numeros de quartos?\n",
        "data[['price', 'bedrooms']].groupby('bedrooms').sum()"
      ],
      "execution_count": 15,
      "outputs": [
        {
          "output_type": "execute_result",
          "data": {
            "text/html": [
              "<div>\n",
              "<style scoped>\n",
              "    .dataframe tbody tr th:only-of-type {\n",
              "        vertical-align: middle;\n",
              "    }\n",
              "\n",
              "    .dataframe tbody tr th {\n",
              "        vertical-align: top;\n",
              "    }\n",
              "\n",
              "    .dataframe thead th {\n",
              "        text-align: right;\n",
              "    }\n",
              "</style>\n",
              "<table border=\"1\" class=\"dataframe\">\n",
              "  <thead>\n",
              "    <tr style=\"text-align: right;\">\n",
              "      <th></th>\n",
              "      <th>price</th>\n",
              "    </tr>\n",
              "    <tr>\n",
              "      <th>bedrooms</th>\n",
              "      <th></th>\n",
              "    </tr>\n",
              "  </thead>\n",
              "  <tbody>\n",
              "    <tr>\n",
              "      <th>0</th>\n",
              "      <td>5323550.000</td>\n",
              "    </tr>\n",
              "    <tr>\n",
              "      <th>1</th>\n",
              "      <td>63210934.000</td>\n",
              "    </tr>\n",
              "    <tr>\n",
              "      <th>2</th>\n",
              "      <td>1107788602.000</td>\n",
              "    </tr>\n",
              "    <tr>\n",
              "      <th>3</th>\n",
              "      <td>4580263939.000</td>\n",
              "    </tr>\n",
              "    <tr>\n",
              "      <th>4</th>\n",
              "      <td>4372957028.000</td>\n",
              "    </tr>\n",
              "    <tr>\n",
              "      <th>5</th>\n",
              "      <td>1259346326.000</td>\n",
              "    </tr>\n",
              "    <tr>\n",
              "      <th>6</th>\n",
              "      <td>224541613.000</td>\n",
              "    </tr>\n",
              "    <tr>\n",
              "      <th>7</th>\n",
              "      <td>36145017.000</td>\n",
              "    </tr>\n",
              "    <tr>\n",
              "      <th>8</th>\n",
              "      <td>14366000.000</td>\n",
              "    </tr>\n",
              "    <tr>\n",
              "      <th>9</th>\n",
              "      <td>5363999.000</td>\n",
              "    </tr>\n",
              "    <tr>\n",
              "      <th>10</th>\n",
              "      <td>2458000.000</td>\n",
              "    </tr>\n",
              "    <tr>\n",
              "      <th>11</th>\n",
              "      <td>520000.000</td>\n",
              "    </tr>\n",
              "    <tr>\n",
              "      <th>33</th>\n",
              "      <td>640000.000</td>\n",
              "    </tr>\n",
              "  </tbody>\n",
              "</table>\n",
              "</div>"
            ],
            "text/plain": [
              "                  price\n",
              "bedrooms               \n",
              "0           5323550.000\n",
              "1          63210934.000\n",
              "2        1107788602.000\n",
              "3        4580263939.000\n",
              "4        4372957028.000\n",
              "5        1259346326.000\n",
              "6         224541613.000\n",
              "7          36145017.000\n",
              "8          14366000.000\n",
              "9           5363999.000\n",
              "10          2458000.000\n",
              "11           520000.000\n",
              "33           640000.000"
            ]
          },
          "metadata": {},
          "execution_count": 15
        }
      ]
    },
    {
      "cell_type": "code",
      "metadata": {
        "colab": {
          "base_uri": "https://localhost:8080/",
          "height": 450
        },
        "id": "1mdsxh_Vh5-Z",
        "outputId": "b521391c-5b4b-4fe9-fa20-19863b370c0c"
      },
      "source": [
        "# Qual a soma de todos os preços de compra por numeros de quartos e banheiros?\n",
        "data[['price', 'bedrooms', 'bathrooms']].groupby(['bedrooms', 'bathrooms']).sum()"
      ],
      "execution_count": 16,
      "outputs": [
        {
          "output_type": "execute_result",
          "data": {
            "text/html": [
              "<div>\n",
              "<style scoped>\n",
              "    .dataframe tbody tr th:only-of-type {\n",
              "        vertical-align: middle;\n",
              "    }\n",
              "\n",
              "    .dataframe tbody tr th {\n",
              "        vertical-align: top;\n",
              "    }\n",
              "\n",
              "    .dataframe thead th {\n",
              "        text-align: right;\n",
              "    }\n",
              "</style>\n",
              "<table border=\"1\" class=\"dataframe\">\n",
              "  <thead>\n",
              "    <tr style=\"text-align: right;\">\n",
              "      <th></th>\n",
              "      <th></th>\n",
              "      <th>price</th>\n",
              "    </tr>\n",
              "    <tr>\n",
              "      <th>bedrooms</th>\n",
              "      <th>bathrooms</th>\n",
              "      <th></th>\n",
              "    </tr>\n",
              "  </thead>\n",
              "  <tbody>\n",
              "    <tr>\n",
              "      <th rowspan=\"5\" valign=\"top\">0</th>\n",
              "      <th>0.000</th>\n",
              "      <td>3642600.000</td>\n",
              "    </tr>\n",
              "    <tr>\n",
              "      <th>0.750</th>\n",
              "      <td>265000.000</td>\n",
              "    </tr>\n",
              "    <tr>\n",
              "      <th>1.000</th>\n",
              "      <td>228000.000</td>\n",
              "    </tr>\n",
              "    <tr>\n",
              "      <th>1.500</th>\n",
              "      <td>288000.000</td>\n",
              "    </tr>\n",
              "    <tr>\n",
              "      <th>2.500</th>\n",
              "      <td>899950.000</td>\n",
              "    </tr>\n",
              "    <tr>\n",
              "      <th>...</th>\n",
              "      <th>...</th>\n",
              "      <td>...</td>\n",
              "    </tr>\n",
              "    <tr>\n",
              "      <th rowspan=\"3\" valign=\"top\">10</th>\n",
              "      <th>2.000</th>\n",
              "      <td>650000.000</td>\n",
              "    </tr>\n",
              "    <tr>\n",
              "      <th>3.000</th>\n",
              "      <td>660000.000</td>\n",
              "    </tr>\n",
              "    <tr>\n",
              "      <th>5.250</th>\n",
              "      <td>1148000.000</td>\n",
              "    </tr>\n",
              "    <tr>\n",
              "      <th>11</th>\n",
              "      <th>3.000</th>\n",
              "      <td>520000.000</td>\n",
              "    </tr>\n",
              "    <tr>\n",
              "      <th>33</th>\n",
              "      <th>1.750</th>\n",
              "      <td>640000.000</td>\n",
              "    </tr>\n",
              "  </tbody>\n",
              "</table>\n",
              "<p>144 rows × 1 columns</p>\n",
              "</div>"
            ],
            "text/plain": [
              "                         price\n",
              "bedrooms bathrooms            \n",
              "0        0.000     3642600.000\n",
              "         0.750      265000.000\n",
              "         1.000      228000.000\n",
              "         1.500      288000.000\n",
              "         2.500      899950.000\n",
              "...                        ...\n",
              "10       2.000      650000.000\n",
              "         3.000      660000.000\n",
              "         5.250     1148000.000\n",
              "11       3.000      520000.000\n",
              "33       1.750      640000.000\n",
              "\n",
              "[144 rows x 1 columns]"
            ]
          },
          "metadata": {},
          "execution_count": 16
        }
      ]
    },
    {
      "cell_type": "code",
      "metadata": {
        "colab": {
          "base_uri": "https://localhost:8080/",
          "height": 450
        },
        "id": "BilFoMx4FoOU",
        "outputId": "0fb2fd33-779c-450b-b5a2-9f066a36758b"
      },
      "source": [
        "# Qual o tamanho médio da sala dos imoveis por ano de construção?\n",
        "data[['sqft_living', 'yr_built']].groupby(['yr_built']).mean()"
      ],
      "execution_count": 17,
      "outputs": [
        {
          "output_type": "execute_result",
          "data": {
            "text/html": [
              "<div>\n",
              "<style scoped>\n",
              "    .dataframe tbody tr th:only-of-type {\n",
              "        vertical-align: middle;\n",
              "    }\n",
              "\n",
              "    .dataframe tbody tr th {\n",
              "        vertical-align: top;\n",
              "    }\n",
              "\n",
              "    .dataframe thead th {\n",
              "        text-align: right;\n",
              "    }\n",
              "</style>\n",
              "<table border=\"1\" class=\"dataframe\">\n",
              "  <thead>\n",
              "    <tr style=\"text-align: right;\">\n",
              "      <th></th>\n",
              "      <th>sqft_living</th>\n",
              "    </tr>\n",
              "    <tr>\n",
              "      <th>yr_built</th>\n",
              "      <th></th>\n",
              "    </tr>\n",
              "  </thead>\n",
              "  <tbody>\n",
              "    <tr>\n",
              "      <th>1900</th>\n",
              "      <td>1732.011</td>\n",
              "    </tr>\n",
              "    <tr>\n",
              "      <th>1901</th>\n",
              "      <td>1763.621</td>\n",
              "    </tr>\n",
              "    <tr>\n",
              "      <th>1902</th>\n",
              "      <td>1919.630</td>\n",
              "    </tr>\n",
              "    <tr>\n",
              "      <th>1903</th>\n",
              "      <td>1507.739</td>\n",
              "    </tr>\n",
              "    <tr>\n",
              "      <th>1904</th>\n",
              "      <td>1603.178</td>\n",
              "    </tr>\n",
              "    <tr>\n",
              "      <th>...</th>\n",
              "      <td>...</td>\n",
              "    </tr>\n",
              "    <tr>\n",
              "      <th>2011</th>\n",
              "      <td>2313.685</td>\n",
              "    </tr>\n",
              "    <tr>\n",
              "      <th>2012</th>\n",
              "      <td>2378.741</td>\n",
              "    </tr>\n",
              "    <tr>\n",
              "      <th>2013</th>\n",
              "      <td>2636.592</td>\n",
              "    </tr>\n",
              "    <tr>\n",
              "      <th>2014</th>\n",
              "      <td>2615.390</td>\n",
              "    </tr>\n",
              "    <tr>\n",
              "      <th>2015</th>\n",
              "      <td>2596.316</td>\n",
              "    </tr>\n",
              "  </tbody>\n",
              "</table>\n",
              "<p>116 rows × 1 columns</p>\n",
              "</div>"
            ],
            "text/plain": [
              "          sqft_living\n",
              "yr_built             \n",
              "1900         1732.011\n",
              "1901         1763.621\n",
              "1902         1919.630\n",
              "1903         1507.739\n",
              "1904         1603.178\n",
              "...               ...\n",
              "2011         2313.685\n",
              "2012         2378.741\n",
              "2013         2636.592\n",
              "2014         2615.390\n",
              "2015         2596.316\n",
              "\n",
              "[116 rows x 1 columns]"
            ]
          },
          "metadata": {},
          "execution_count": 17
        }
      ]
    },
    {
      "cell_type": "code",
      "metadata": {
        "colab": {
          "base_uri": "https://localhost:8080/",
          "height": 450
        },
        "id": "zswWm8vVHT9z",
        "outputId": "704752b1-10e2-4709-cd2e-35e40d58769d"
      },
      "source": [
        "# Qual o tamanho mediano da sala dos imoveis por ano de construção?\n",
        "data[['sqft_living', 'yr_built']].groupby(['yr_built']).median()"
      ],
      "execution_count": 18,
      "outputs": [
        {
          "output_type": "execute_result",
          "data": {
            "text/html": [
              "<div>\n",
              "<style scoped>\n",
              "    .dataframe tbody tr th:only-of-type {\n",
              "        vertical-align: middle;\n",
              "    }\n",
              "\n",
              "    .dataframe tbody tr th {\n",
              "        vertical-align: top;\n",
              "    }\n",
              "\n",
              "    .dataframe thead th {\n",
              "        text-align: right;\n",
              "    }\n",
              "</style>\n",
              "<table border=\"1\" class=\"dataframe\">\n",
              "  <thead>\n",
              "    <tr style=\"text-align: right;\">\n",
              "      <th></th>\n",
              "      <th>sqft_living</th>\n",
              "    </tr>\n",
              "    <tr>\n",
              "      <th>yr_built</th>\n",
              "      <th></th>\n",
              "    </tr>\n",
              "  </thead>\n",
              "  <tbody>\n",
              "    <tr>\n",
              "      <th>1900</th>\n",
              "      <td>1540.000</td>\n",
              "    </tr>\n",
              "    <tr>\n",
              "      <th>1901</th>\n",
              "      <td>1610.000</td>\n",
              "    </tr>\n",
              "    <tr>\n",
              "      <th>1902</th>\n",
              "      <td>1600.000</td>\n",
              "    </tr>\n",
              "    <tr>\n",
              "      <th>1903</th>\n",
              "      <td>1505.000</td>\n",
              "    </tr>\n",
              "    <tr>\n",
              "      <th>1904</th>\n",
              "      <td>1280.000</td>\n",
              "    </tr>\n",
              "    <tr>\n",
              "      <th>...</th>\n",
              "      <td>...</td>\n",
              "    </tr>\n",
              "    <tr>\n",
              "      <th>2011</th>\n",
              "      <td>2270.000</td>\n",
              "    </tr>\n",
              "    <tr>\n",
              "      <th>2012</th>\n",
              "      <td>2237.500</td>\n",
              "    </tr>\n",
              "    <tr>\n",
              "      <th>2013</th>\n",
              "      <td>2580.000</td>\n",
              "    </tr>\n",
              "    <tr>\n",
              "      <th>2014</th>\n",
              "      <td>2650.000</td>\n",
              "    </tr>\n",
              "    <tr>\n",
              "      <th>2015</th>\n",
              "      <td>2590.000</td>\n",
              "    </tr>\n",
              "  </tbody>\n",
              "</table>\n",
              "<p>116 rows × 1 columns</p>\n",
              "</div>"
            ],
            "text/plain": [
              "          sqft_living\n",
              "yr_built             \n",
              "1900         1540.000\n",
              "1901         1610.000\n",
              "1902         1600.000\n",
              "1903         1505.000\n",
              "1904         1280.000\n",
              "...               ...\n",
              "2011         2270.000\n",
              "2012         2237.500\n",
              "2013         2580.000\n",
              "2014         2650.000\n",
              "2015         2590.000\n",
              "\n",
              "[116 rows x 1 columns]"
            ]
          },
          "metadata": {},
          "execution_count": 18
        }
      ]
    },
    {
      "cell_type": "code",
      "metadata": {
        "colab": {
          "base_uri": "https://localhost:8080/",
          "height": 450
        },
        "id": "pVKEyXRtHmPs",
        "outputId": "1d2c836f-298c-4685-b33f-27aeb5e1dc3e"
      },
      "source": [
        "# Qual o desvio-padrão tamanho médio da sala dos imoveis por ano de construção?\n",
        "data[['sqft_living', 'yr_built']].groupby(['yr_built']).std()"
      ],
      "execution_count": 19,
      "outputs": [
        {
          "output_type": "execute_result",
          "data": {
            "text/html": [
              "<div>\n",
              "<style scoped>\n",
              "    .dataframe tbody tr th:only-of-type {\n",
              "        vertical-align: middle;\n",
              "    }\n",
              "\n",
              "    .dataframe tbody tr th {\n",
              "        vertical-align: top;\n",
              "    }\n",
              "\n",
              "    .dataframe thead th {\n",
              "        text-align: right;\n",
              "    }\n",
              "</style>\n",
              "<table border=\"1\" class=\"dataframe\">\n",
              "  <thead>\n",
              "    <tr style=\"text-align: right;\">\n",
              "      <th></th>\n",
              "      <th>sqft_living</th>\n",
              "    </tr>\n",
              "    <tr>\n",
              "      <th>yr_built</th>\n",
              "      <th></th>\n",
              "    </tr>\n",
              "  </thead>\n",
              "  <tbody>\n",
              "    <tr>\n",
              "      <th>1900</th>\n",
              "      <td>732.944</td>\n",
              "    </tr>\n",
              "    <tr>\n",
              "      <th>1901</th>\n",
              "      <td>668.232</td>\n",
              "    </tr>\n",
              "    <tr>\n",
              "      <th>1902</th>\n",
              "      <td>878.659</td>\n",
              "    </tr>\n",
              "    <tr>\n",
              "      <th>1903</th>\n",
              "      <td>469.723</td>\n",
              "    </tr>\n",
              "    <tr>\n",
              "      <th>1904</th>\n",
              "      <td>1076.871</td>\n",
              "    </tr>\n",
              "    <tr>\n",
              "      <th>...</th>\n",
              "      <td>...</td>\n",
              "    </tr>\n",
              "    <tr>\n",
              "      <th>2011</th>\n",
              "      <td>804.864</td>\n",
              "    </tr>\n",
              "    <tr>\n",
              "      <th>2012</th>\n",
              "      <td>771.430</td>\n",
              "    </tr>\n",
              "    <tr>\n",
              "      <th>2013</th>\n",
              "      <td>883.499</td>\n",
              "    </tr>\n",
              "    <tr>\n",
              "      <th>2014</th>\n",
              "      <td>893.810</td>\n",
              "    </tr>\n",
              "    <tr>\n",
              "      <th>2015</th>\n",
              "      <td>1155.605</td>\n",
              "    </tr>\n",
              "  </tbody>\n",
              "</table>\n",
              "<p>116 rows × 1 columns</p>\n",
              "</div>"
            ],
            "text/plain": [
              "          sqft_living\n",
              "yr_built             \n",
              "1900          732.944\n",
              "1901          668.232\n",
              "1902          878.659\n",
              "1903          469.723\n",
              "1904         1076.871\n",
              "...               ...\n",
              "2011          804.864\n",
              "2012          771.430\n",
              "2013          883.499\n",
              "2014          893.810\n",
              "2015         1155.605\n",
              "\n",
              "[116 rows x 1 columns]"
            ]
          },
          "metadata": {},
          "execution_count": 19
        }
      ]
    },
    {
      "cell_type": "code",
      "metadata": {
        "id": "EBr9KuN_IFgr"
      },
      "source": [
        "# Como é o crescimento médio de preços de compra dos imóveis por ano, por dia, pela semana do ano?\n"
      ],
      "execution_count": 20,
      "outputs": []
    },
    {
      "cell_type": "code",
      "metadata": {
        "colab": {
          "base_uri": "https://localhost:8080/",
          "height": 651
        },
        "id": "REfdqt1zIbvz",
        "outputId": "d87c6a13-c6cd-4f13-814f-8073812e725a"
      },
      "source": [
        "# Como é o crescimento total de preços de compra dos imóveis por ano\n",
        "# eixo x: Ano\n",
        "# eixo y: Soma dos preços\n",
        "# Grafico de barras\n",
        "\n",
        "from matplotlib import pyplot as plt\n",
        "\n",
        "# first graph\n",
        "data['year'] = pd.to_datetime(data['date']).dt.year\n",
        "by_year = data[['price', 'year']].groupby(['year']).sum().reset_index()\n",
        "plt.figure(figsize=(20,12))\n",
        "plt.bar(by_year['year'], by_year['price'])\n",
        "\n",
        "\n"
      ],
      "execution_count": 21,
      "outputs": [
        {
          "output_type": "execute_result",
          "data": {
            "text/plain": [
              "<BarContainer object of 2 artists>"
            ]
          },
          "metadata": {},
          "execution_count": 21
        },
        {
          "output_type": "display_data",
          "data": {
            "image/png": "[encoded data removed]",
            "text/plain": [
              "<Figure size 1440x864 with 1 Axes>"
            ]
          },
          "metadata": {
            "needs_background": "light"
          }
        }
      ]
    },
    {
      "cell_type": "code",
      "metadata": {
        "colab": {
          "base_uri": "https://localhost:8080/",
          "height": 643
        },
        "id": "O1_KbPLVJ80Q",
        "outputId": "7d855220-e6ac-4fd4-82a6-6415bb0dbdd8"
      },
      "source": [
        "# second graph\n",
        "data['day'] = pd.to_datetime(data['date'])\n",
        "by_day = data[['price', 'day']].groupby(['day']).mean().reset_index()\n",
        "plt.figure(figsize=(20,12))\n",
        "plt.plot(by_day['day'], by_day['price'])"
      ],
      "execution_count": 22,
      "outputs": [
        {
          "output_type": "execute_result",
          "data": {
            "text/plain": [
              "[<matplotlib.lines.Line2D at 0x7f07effdff90>]"
            ]
          },
          "metadata": {},
          "execution_count": 22
        },
        {
          "output_type": "display_data",
          "data": {
            "image/png": "[encoded data removed]",
            "text/plain": [
              "<Figure size 1440x864 with 1 Axes>"
            ]
          },
          "metadata": {
            "needs_background": "light"
          }
        }
      ]
    },
    {
      "cell_type": "code",
      "metadata": {
        "colab": {
          "base_uri": "https://localhost:8080/",
          "height": 635
        },
        "id": "YkS6tqD1OOq9",
        "outputId": "bc69e830-9da9-44cf-f127-94dda1843684"
      },
      "source": [
        "# Third graph\n",
        "data['year_week'] = pd.to_datetime(data['date']).dt.strftime('%Y-%U')\n",
        "by_week_year = data[['price', 'year_week']].groupby(['year_week']).mean().reset_index()\n",
        "plt.figure(figsize=(20,12))\n",
        "plt.plot(by_week_year['year_week'], by_week_year['price'])\n",
        "plt.xticks(rotation=60);"
      ],
      "execution_count": 23,
      "outputs": [
        {
          "output_type": "display_data",
          "data": {
            "image/png": "[encoded data removed]",
            "text/plain": [
              "<Figure size 1440x864 with 1 Axes>"
            ]
          },
          "metadata": {
            "needs_background": "light"
          }
        }
      ]
    },
    {
      "cell_type": "code",
      "metadata": {
        "colab": {
          "base_uri": "https://localhost:8080/",
          "height": 249
        },
        "id": "7VkxBeENP_Ol",
        "outputId": "710c15ec-1a15-4139-d573-0eb5ece7ea65"
      },
      "source": [
        "from matplotlib import gridspec\n",
        "\n",
        "\n",
        "figr =  plt.figure(figsize=(20,12))\n",
        "specs = gridspec.GridSpec( ncols=2, nrows=2, figure=fig )\n",
        "\n",
        "\n",
        "ax1 = fig.add_subplot(specs[0, :])    # firts rows\n",
        "ax2 = fig.add_subplot(specs[1, 0])    # second Rows  - firts column\n",
        "ax3 = fig.add_subplot(specs[1, 1])    # Third rows  - second column\n",
        "\n",
        "\n",
        "# first graph\n",
        "data['year'] = pd.to_datetime(data['date']).dt.year\n",
        "by_year = data[['price', 'year']].groupby(['year']).sum().reset_index()\n",
        "ax1.bar(by_year['year'], by_year['price'])\n",
        "\n",
        "# second graph\n",
        "data['day'] = pd.to_datetime(data['date'])\n",
        "by_day = data[['price', 'day']].groupby(['day']).mean().reset_index()\n",
        "ax2.plot(by_day['day'], by_day['price'])\n",
        "\n",
        "# Third graph\n",
        "data['year_week'] = pd.to_datetime(data['date']).dt.strftime('%Y-%U')\n",
        "by_week_year = data[['price', 'year_week']].groupby(['year_week']).mean().reset_index()\n",
        "ax3.plot(by_week_year['year_week'], by_week_year['price'])\n",
        "plt.xticks(rotation=60);"
      ],
      "execution_count": 36,
      "outputs": [
        {
          "output_type": "error",
          "ename": "NameError",
          "evalue": "ignored",
          "traceback": [
            "\u001b[0;31m---------------------------------------------------------------------------\u001b[0m",
            "\u001b[0;31mNameError\u001b[0m                                 Traceback (most recent call last)",
            "\u001b[0;32m<ipython-input-36-94f0f233f892>\u001b[0m in \u001b[0;36m<module>\u001b[0;34m()\u001b[0m\n\u001b[1;32m      3\u001b[0m \u001b[0;34m\u001b[0m\u001b[0m\n\u001b[1;32m      4\u001b[0m \u001b[0mfigr\u001b[0m \u001b[0;34m=\u001b[0m  \u001b[0mplt\u001b[0m\u001b[0;34m.\u001b[0m\u001b[0mfigure\u001b[0m\u001b[0;34m(\u001b[0m\u001b[0mfigsize\u001b[0m\u001b[0;34m=\u001b[0m\u001b[0;34m(\u001b[0m\u001b[0;36m20\u001b[0m\u001b[0;34m,\u001b[0m\u001b[0;36m12\u001b[0m\u001b[0;34m)\u001b[0m\u001b[0;34m)\u001b[0m\u001b[0;34m\u001b[0m\u001b[0;34m\u001b[0m\u001b[0m\n\u001b[0;32m----> 5\u001b[0;31m \u001b[0mspecs\u001b[0m \u001b[0;34m=\u001b[0m \u001b[0mgridspec\u001b[0m\u001b[0;34m.\u001b[0m\u001b[0mGridSpec\u001b[0m\u001b[0;34m(\u001b[0m \u001b[0mncols\u001b[0m\u001b[0;34m=\u001b[0m\u001b[0;36m2\u001b[0m\u001b[0;34m,\u001b[0m \u001b[0mnrows\u001b[0m\u001b[0;34m=\u001b[0m\u001b[0;36m2\u001b[0m\u001b[0;34m,\u001b[0m \u001b[0mfigure\u001b[0m\u001b[0;34m=\u001b[0m\u001b[0mfig\u001b[0m \u001b[0;34m)\u001b[0m\u001b[0;34m\u001b[0m\u001b[0;34m\u001b[0m\u001b[0m\n\u001b[0m\u001b[1;32m      6\u001b[0m \u001b[0;34m\u001b[0m\u001b[0m\n\u001b[1;32m      7\u001b[0m \u001b[0;34m\u001b[0m\u001b[0m\n",
            "\u001b[0;31mNameError\u001b[0m: name 'fig' is not defined"
          ]
        },
        {
          "output_type": "display_data",
          "data": {
            "text/plain": [
              "<Figure size 1440x864 with 0 Axes>"
            ]
          },
          "metadata": {}
        }
      ]
    }
  ]
}